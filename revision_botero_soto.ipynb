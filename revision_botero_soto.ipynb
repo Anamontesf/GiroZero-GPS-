{
 "cells": [
  {
   "attachments": {},
   "cell_type": "markdown",
   "metadata": {},
   "source": [
    "##### Andrés Felipe Rengifo. "
   ]
  },
  {
   "cell_type": "code",
   "execution_count": 156,
   "metadata": {},
   "outputs": [],
   "source": [
    "import pandas as pd\n",
    "import os \n",
    "import numpy as np\n",
    "from datetime import date"
   ]
  },
  {
   "cell_type": "code",
   "execution_count": 157,
   "metadata": {},
   "outputs": [
    {
     "data": {
      "text/plain": [
       "['BOTERO SOTO (NOEL)(NUTRESA)',\n",
       " 'C&S LOGISTICA',\n",
       " 'CEMEX',\n",
       " 'CENTROLIMA',\n",
       " 'COLTANQUES',\n",
       " 'COTRANSCOL',\n",
       " 'DITRANSA',\n",
       " 'HDL - Bimbo',\n",
       " 'HDL - Colsubsidio',\n",
       " 'PLEXA',\n",
       " 'POSTOBON',\n",
       " 'RENTING COLOMBIA',\n",
       " 'SOLISTICA',\n",
       " 'TDH',\n",
       " 'TENARIS',\n",
       " 'TRANSPORTES SANCHEZ POLO (TSP)',\n",
       " 'Z. RESUMEN PLACAS']"
      ]
     },
     "execution_count": 157,
     "metadata": {},
     "output_type": "execute_result"
    }
   ],
   "source": [
    "user= os.getlogin( )\n",
    "root= \"C:\\\\Users\\\\\" +user+ \"\\\\Universidad de los Andes\\\\UK PACT- Giro Zero - GiroZero GPS - GiroZero GPS\"\n",
    "empresas_folders= [f for f in os.listdir(root)] \n",
    "empresas_folders.pop(0)\n",
    "empresas_folders.pop(0)\n",
    "empresas_folders.pop(0)\n",
    "empresas_folders"
   ]
  },
  {
   "cell_type": "code",
   "execution_count": 158,
   "metadata": {},
   "outputs": [
    {
     "data": {
      "text/plain": [
       "['BOTERO SOTO (NOEL)(NUTRESA)',\n",
       " 'C&S LOGISTICA',\n",
       " 'CEMEX',\n",
       " 'CENTROLIMA',\n",
       " 'COLTANQUES',\n",
       " 'COTRANSCOL',\n",
       " 'DITRANSA',\n",
       " 'HDL - Bimbo',\n",
       " 'HDL - Colsubsidio',\n",
       " 'PLEXA',\n",
       " 'POSTOBON',\n",
       " 'RENTING COLOMBIA',\n",
       " 'SOLISTICA',\n",
       " 'TDH',\n",
       " 'TENARIS',\n",
       " 'TRANSPORTES SANCHEZ POLO (TSP)',\n",
       " 'Z. RESUMEN PLACAS']"
      ]
     },
     "execution_count": 158,
     "metadata": {},
     "output_type": "execute_result"
    }
   ],
   "source": [
    "empresas_folders"
   ]
  },
  {
   "attachments": {},
   "cell_type": "markdown",
   "metadata": {},
   "source": [
    "#####  Botero Soto"
   ]
  },
  {
   "cell_type": "code",
   "execution_count": 159,
   "metadata": {},
   "outputs": [
    {
     "data": {
      "text/plain": [
       "'C:\\\\Users\\\\a.rengifoj\\\\Universidad de los Andes\\\\UK PACT- Giro Zero - GiroZero GPS - GiroZero GPS\\\\BOTERO SOTO (NOEL)(NUTRESA)\\\\1. DATOS BRUTOS'"
      ]
     },
     "execution_count": 159,
     "metadata": {},
     "output_type": "execute_result"
    }
   ],
   "source": [
    "empresa_dir= os.path.join(root, empresas_folders[0])\n",
    "data_folders= [f for f in os.listdir(empresa_dir) if \"BRUTOS\" in f] \n",
    "folder_brutos= os.path.join(empresa_dir, data_folders[0])\n",
    "folder_brutos"
   ]
  },
  {
   "cell_type": "code",
   "execution_count": 160,
   "metadata": {},
   "outputs": [
    {
     "data": {
      "text/plain": [
       "'C:\\\\Users\\\\a.rengifoj\\\\Universidad de los Andes\\\\UK PACT- Giro Zero - GiroZero GPS - GiroZero GPS\\\\BOTERO SOTO (NOEL)(NUTRESA)\\\\1. DATOS BRUTOS\\\\1. DATOS BRUTOS HASTA 11-05-2023\\\\Información GPS Noel 2022 (Botero Soto).xlsx'"
      ]
     },
     "execution_count": 160,
     "metadata": {},
     "output_type": "execute_result"
    }
   ],
   "source": [
    "### dada la estructura de los datos, permite obtener la cantidad de archivos \n",
    "\n",
    "data_folders=  [f for f in os.listdir(folder_brutos)]\n",
    "\n",
    "files= []\n",
    "for i in range(len(data_folders)):\n",
    "    tem_folder= os.path.join(folder_brutos, data_folders[i])\n",
    "    tem_files= [f for f in os.listdir(tem_folder)]\n",
    "    for j in range(len(tem_files)):\n",
    "        tem_path=os.path.join(tem_folder, tem_files[j])\n",
    "        files.append(tem_path)\n",
    "tem_path"
   ]
  },
  {
   "cell_type": "code",
   "execution_count": 161,
   "metadata": {},
   "outputs": [],
   "source": [
    "gps= pd.read_excel(tem_path)"
   ]
  },
  {
   "attachments": {},
   "cell_type": "markdown",
   "metadata": {},
   "source": [
    "#### Velocidades"
   ]
  },
  {
   "cell_type": "code",
   "execution_count": 162,
   "metadata": {},
   "outputs": [
    {
     "data": {
      "text/html": [
       "<div>\n",
       "<style scoped>\n",
       "    .dataframe tbody tr th:only-of-type {\n",
       "        vertical-align: middle;\n",
       "    }\n",
       "\n",
       "    .dataframe tbody tr th {\n",
       "        vertical-align: top;\n",
       "    }\n",
       "\n",
       "    .dataframe thead th {\n",
       "        text-align: right;\n",
       "    }\n",
       "</style>\n",
       "<table border=\"1\" class=\"dataframe\">\n",
       "  <thead>\n",
       "    <tr style=\"text-align: right;\">\n",
       "      <th></th>\n",
       "      <th>PLACA</th>\n",
       "      <th>VELOCIDAD_mean</th>\n",
       "      <th>VELOCIDAD_min</th>\n",
       "      <th>VELOCIDAD_max</th>\n",
       "      <th>Rango Velocidad</th>\n",
       "    </tr>\n",
       "  </thead>\n",
       "  <tbody>\n",
       "    <tr>\n",
       "      <th>0</th>\n",
       "      <td>ESR348</td>\n",
       "      <td>33.537335</td>\n",
       "      <td>0.0</td>\n",
       "      <td>91.0</td>\n",
       "      <td>(0.0-91.0)</td>\n",
       "    </tr>\n",
       "    <tr>\n",
       "      <th>1</th>\n",
       "      <td>GDX600</td>\n",
       "      <td>12.314992</td>\n",
       "      <td>0.0</td>\n",
       "      <td>70.0</td>\n",
       "      <td>(0.0-70.0)</td>\n",
       "    </tr>\n",
       "    <tr>\n",
       "      <th>2</th>\n",
       "      <td>GDY060</td>\n",
       "      <td>27.709486</td>\n",
       "      <td>0.0</td>\n",
       "      <td>74.0</td>\n",
       "      <td>(0.0-74.0)</td>\n",
       "    </tr>\n",
       "    <tr>\n",
       "      <th>3</th>\n",
       "      <td>GDY915</td>\n",
       "      <td>9.248756</td>\n",
       "      <td>0.0</td>\n",
       "      <td>73.0</td>\n",
       "      <td>(0.0-73.0)</td>\n",
       "    </tr>\n",
       "    <tr>\n",
       "      <th>4</th>\n",
       "      <td>GUR562</td>\n",
       "      <td>30.474227</td>\n",
       "      <td>0.0</td>\n",
       "      <td>78.0</td>\n",
       "      <td>(0.0-78.0)</td>\n",
       "    </tr>\n",
       "    <tr>\n",
       "      <th>...</th>\n",
       "      <td>...</td>\n",
       "      <td>...</td>\n",
       "      <td>...</td>\n",
       "      <td>...</td>\n",
       "      <td>...</td>\n",
       "    </tr>\n",
       "    <tr>\n",
       "      <th>86</th>\n",
       "      <td>WLW708</td>\n",
       "      <td>32.511991</td>\n",
       "      <td>0.0</td>\n",
       "      <td>82.0</td>\n",
       "      <td>(0.0-82.0)</td>\n",
       "    </tr>\n",
       "    <tr>\n",
       "      <th>87</th>\n",
       "      <td>WPT537</td>\n",
       "      <td>30.248020</td>\n",
       "      <td>0.0</td>\n",
       "      <td>89.0</td>\n",
       "      <td>(0.0-89.0)</td>\n",
       "    </tr>\n",
       "    <tr>\n",
       "      <th>88</th>\n",
       "      <td>XKH903</td>\n",
       "      <td>8.848432</td>\n",
       "      <td>0.0</td>\n",
       "      <td>68.0</td>\n",
       "      <td>(0.0-68.0)</td>\n",
       "    </tr>\n",
       "    <tr>\n",
       "      <th>89</th>\n",
       "      <td>XVH092</td>\n",
       "      <td>25.652353</td>\n",
       "      <td>0.0</td>\n",
       "      <td>60.0</td>\n",
       "      <td>(0.0-60.0)</td>\n",
       "    </tr>\n",
       "    <tr>\n",
       "      <th>90</th>\n",
       "      <td>ZII486</td>\n",
       "      <td>16.683831</td>\n",
       "      <td>0.0</td>\n",
       "      <td>77.0</td>\n",
       "      <td>(0.0-77.0)</td>\n",
       "    </tr>\n",
       "  </tbody>\n",
       "</table>\n",
       "<p>91 rows × 5 columns</p>\n",
       "</div>"
      ],
      "text/plain": [
       "     PLACA  VELOCIDAD_mean  VELOCIDAD_min  VELOCIDAD_max Rango Velocidad\n",
       "0   ESR348       33.537335            0.0           91.0      (0.0-91.0)\n",
       "1   GDX600       12.314992            0.0           70.0      (0.0-70.0)\n",
       "2   GDY060       27.709486            0.0           74.0      (0.0-74.0)\n",
       "3   GDY915        9.248756            0.0           73.0      (0.0-73.0)\n",
       "4   GUR562       30.474227            0.0           78.0      (0.0-78.0)\n",
       "..     ...             ...            ...            ...             ...\n",
       "86  WLW708       32.511991            0.0           82.0      (0.0-82.0)\n",
       "87  WPT537       30.248020            0.0           89.0      (0.0-89.0)\n",
       "88  XKH903        8.848432            0.0           68.0      (0.0-68.0)\n",
       "89  XVH092       25.652353            0.0           60.0      (0.0-60.0)\n",
       "90  ZII486       16.683831            0.0           77.0      (0.0-77.0)\n",
       "\n",
       "[91 rows x 5 columns]"
      ]
     },
     "execution_count": 162,
     "metadata": {},
     "output_type": "execute_result"
    }
   ],
   "source": [
    "### velocidad\n",
    "velocity= gps.groupby(\"Vehículo FO\")[['VELOCIDAD']].agg(['mean', 'min', 'max'])\n",
    "velocity.reset_index(inplace=True)\n",
    "colnames= [ f[0] +\"_\" + f[1]  for f in  velocity.columns]\n",
    "velocity.columns= colnames\n",
    "velocity.rename(columns={\"Vehículo FO_\": \"PLACA\"}, inplace= True)\n",
    "\n",
    "velocity['Rango Velocidad']= \"\"\n",
    "for x in range(len(velocity)):\n",
    "     a=velocity.loc[x, 'VELOCIDAD_min']\n",
    "     b=velocity.loc[x, 'VELOCIDAD_max']\n",
    "     velocity.loc[x, 'Rango Velocidad']= \"(\"+ str(a) + \"-\" + str(b) + \")\"\n",
    "            \n",
    "            \n",
    "velocity"
   ]
  },
  {
   "cell_type": "code",
   "execution_count": 173,
   "metadata": {},
   "outputs": [],
   "source": [
    "velocity= velocity[['PLACA', 'VELOCIDAD_mean', \"Rango Velocidad\" ]]"
   ]
  },
  {
   "cell_type": "code",
   "execution_count": 174,
   "metadata": {},
   "outputs": [
    {
     "data": {
      "text/html": [
       "<div>\n",
       "<style scoped>\n",
       "    .dataframe tbody tr th:only-of-type {\n",
       "        vertical-align: middle;\n",
       "    }\n",
       "\n",
       "    .dataframe tbody tr th {\n",
       "        vertical-align: top;\n",
       "    }\n",
       "\n",
       "    .dataframe thead th {\n",
       "        text-align: right;\n",
       "    }\n",
       "</style>\n",
       "<table border=\"1\" class=\"dataframe\">\n",
       "  <thead>\n",
       "    <tr style=\"text-align: right;\">\n",
       "      <th></th>\n",
       "      <th>PLACA</th>\n",
       "      <th>VELOCIDAD_mean</th>\n",
       "      <th>Rango Velocidad</th>\n",
       "    </tr>\n",
       "  </thead>\n",
       "  <tbody>\n",
       "    <tr>\n",
       "      <th>0</th>\n",
       "      <td>ESR348</td>\n",
       "      <td>33.537335</td>\n",
       "      <td>(0.0-91.0)</td>\n",
       "    </tr>\n",
       "    <tr>\n",
       "      <th>1</th>\n",
       "      <td>GDX600</td>\n",
       "      <td>12.314992</td>\n",
       "      <td>(0.0-70.0)</td>\n",
       "    </tr>\n",
       "    <tr>\n",
       "      <th>2</th>\n",
       "      <td>GDY060</td>\n",
       "      <td>27.709486</td>\n",
       "      <td>(0.0-74.0)</td>\n",
       "    </tr>\n",
       "    <tr>\n",
       "      <th>3</th>\n",
       "      <td>GDY915</td>\n",
       "      <td>9.248756</td>\n",
       "      <td>(0.0-73.0)</td>\n",
       "    </tr>\n",
       "    <tr>\n",
       "      <th>4</th>\n",
       "      <td>GUR562</td>\n",
       "      <td>30.474227</td>\n",
       "      <td>(0.0-78.0)</td>\n",
       "    </tr>\n",
       "    <tr>\n",
       "      <th>...</th>\n",
       "      <td>...</td>\n",
       "      <td>...</td>\n",
       "      <td>...</td>\n",
       "    </tr>\n",
       "    <tr>\n",
       "      <th>86</th>\n",
       "      <td>WLW708</td>\n",
       "      <td>32.511991</td>\n",
       "      <td>(0.0-82.0)</td>\n",
       "    </tr>\n",
       "    <tr>\n",
       "      <th>87</th>\n",
       "      <td>WPT537</td>\n",
       "      <td>30.248020</td>\n",
       "      <td>(0.0-89.0)</td>\n",
       "    </tr>\n",
       "    <tr>\n",
       "      <th>88</th>\n",
       "      <td>XKH903</td>\n",
       "      <td>8.848432</td>\n",
       "      <td>(0.0-68.0)</td>\n",
       "    </tr>\n",
       "    <tr>\n",
       "      <th>89</th>\n",
       "      <td>XVH092</td>\n",
       "      <td>25.652353</td>\n",
       "      <td>(0.0-60.0)</td>\n",
       "    </tr>\n",
       "    <tr>\n",
       "      <th>90</th>\n",
       "      <td>ZII486</td>\n",
       "      <td>16.683831</td>\n",
       "      <td>(0.0-77.0)</td>\n",
       "    </tr>\n",
       "  </tbody>\n",
       "</table>\n",
       "<p>91 rows × 3 columns</p>\n",
       "</div>"
      ],
      "text/plain": [
       "     PLACA  VELOCIDAD_mean Rango Velocidad\n",
       "0   ESR348       33.537335      (0.0-91.0)\n",
       "1   GDX600       12.314992      (0.0-70.0)\n",
       "2   GDY060       27.709486      (0.0-74.0)\n",
       "3   GDY915        9.248756      (0.0-73.0)\n",
       "4   GUR562       30.474227      (0.0-78.0)\n",
       "..     ...             ...             ...\n",
       "86  WLW708       32.511991      (0.0-82.0)\n",
       "87  WPT537       30.248020      (0.0-89.0)\n",
       "88  XKH903        8.848432      (0.0-68.0)\n",
       "89  XVH092       25.652353      (0.0-60.0)\n",
       "90  ZII486       16.683831      (0.0-77.0)\n",
       "\n",
       "[91 rows x 3 columns]"
      ]
     },
     "execution_count": 174,
     "metadata": {},
     "output_type": "execute_result"
    }
   ],
   "source": [
    "velocity"
   ]
  },
  {
   "attachments": {},
   "cell_type": "markdown",
   "metadata": {},
   "source": [
    "##### DATOS VALIDOS"
   ]
  },
  {
   "cell_type": "code",
   "execution_count": 164,
   "metadata": {},
   "outputs": [],
   "source": [
    "gps['velocidad_valida']= 1\n",
    "gps.loc[gps['VELOCIDAD']> 125, 'velocidad_valida']= 0\n",
    "\n",
    "\n",
    "#lat_lon= pd.DataFrame()\n",
    "for var in ['LONGITUD_X', 'LATITUD_Y']:\n",
    "        varname= var + \"_valida\"\n",
    "        gps[varname]= 1\n",
    "        if var== \"LONGITUD_X\":\n",
    "                gps.loc[abs(gps[var])> 180, 'velocidad_valida']= 0\n",
    "        elif var== \"LATITUD_Y\":\n",
    "                gps.loc[abs(gps[var])> 90, 'velocidad_valida']= 0\n",
    "\n",
    "gps['obs_valida']= 1\n",
    "gps.loc[(gps['velocidad_valida']== 0) | (gps['LONGITUD_X_valida']== 0) | (gps['LATITUD_Y_valida']== 0), 'obs_valida']= 0\n",
    "\n",
    "obs_validas= gps.groupby(\"Vehículo FO\")[['obs_valida']].agg(['mean', \"sum\"])\n",
    "obs_validas.reset_index(inplace=True)\n",
    "obs_validas.columns= [\"PLACA\", \"obs_validas (%)\", \"obs_validas total\"]"
   ]
  },
  {
   "attachments": {},
   "cell_type": "markdown",
   "metadata": {},
   "source": [
    "#### Numero de registros por placa."
   ]
  },
  {
   "cell_type": "code",
   "execution_count": 165,
   "metadata": {},
   "outputs": [
    {
     "data": {
      "text/html": [
       "<div>\n",
       "<style scoped>\n",
       "    .dataframe tbody tr th:only-of-type {\n",
       "        vertical-align: middle;\n",
       "    }\n",
       "\n",
       "    .dataframe tbody tr th {\n",
       "        vertical-align: top;\n",
       "    }\n",
       "\n",
       "    .dataframe thead th {\n",
       "        text-align: right;\n",
       "    }\n",
       "</style>\n",
       "<table border=\"1\" class=\"dataframe\">\n",
       "  <thead>\n",
       "    <tr style=\"text-align: right;\">\n",
       "      <th></th>\n",
       "      <th>Vehículo FO</th>\n",
       "      <th>CANT.REGISTROS</th>\n",
       "    </tr>\n",
       "  </thead>\n",
       "  <tbody>\n",
       "    <tr>\n",
       "      <th>0</th>\n",
       "      <td>ESR348</td>\n",
       "      <td>5665</td>\n",
       "    </tr>\n",
       "    <tr>\n",
       "      <th>1</th>\n",
       "      <td>GDX600</td>\n",
       "      <td>1254</td>\n",
       "    </tr>\n",
       "    <tr>\n",
       "      <th>2</th>\n",
       "      <td>GDY060</td>\n",
       "      <td>506</td>\n",
       "    </tr>\n",
       "    <tr>\n",
       "      <th>3</th>\n",
       "      <td>GDY915</td>\n",
       "      <td>201</td>\n",
       "    </tr>\n",
       "    <tr>\n",
       "      <th>4</th>\n",
       "      <td>GUR562</td>\n",
       "      <td>1552</td>\n",
       "    </tr>\n",
       "    <tr>\n",
       "      <th>5</th>\n",
       "      <td>JYM629</td>\n",
       "      <td>3</td>\n",
       "    </tr>\n",
       "    <tr>\n",
       "      <th>6</th>\n",
       "      <td>JYO016</td>\n",
       "      <td>1925</td>\n",
       "    </tr>\n",
       "    <tr>\n",
       "      <th>7</th>\n",
       "      <td>KSO640</td>\n",
       "      <td>1103</td>\n",
       "    </tr>\n",
       "    <tr>\n",
       "      <th>8</th>\n",
       "      <td>LJW805</td>\n",
       "      <td>2902</td>\n",
       "    </tr>\n",
       "    <tr>\n",
       "      <th>9</th>\n",
       "      <td>LPR060</td>\n",
       "      <td>1599</td>\n",
       "    </tr>\n",
       "    <tr>\n",
       "      <th>10</th>\n",
       "      <td>OJF682</td>\n",
       "      <td>3471</td>\n",
       "    </tr>\n",
       "    <tr>\n",
       "      <th>11</th>\n",
       "      <td>OLD726</td>\n",
       "      <td>1174</td>\n",
       "    </tr>\n",
       "    <tr>\n",
       "      <th>12</th>\n",
       "      <td>SBV309</td>\n",
       "      <td>1226</td>\n",
       "    </tr>\n",
       "    <tr>\n",
       "      <th>13</th>\n",
       "      <td>SET270</td>\n",
       "      <td>1946</td>\n",
       "    </tr>\n",
       "    <tr>\n",
       "      <th>14</th>\n",
       "      <td>SJT151</td>\n",
       "      <td>1199</td>\n",
       "    </tr>\n",
       "  </tbody>\n",
       "</table>\n",
       "</div>"
      ],
      "text/plain": [
       "   Vehículo FO  CANT.REGISTROS\n",
       "0       ESR348            5665\n",
       "1       GDX600            1254\n",
       "2       GDY060             506\n",
       "3       GDY915             201\n",
       "4       GUR562            1552\n",
       "5       JYM629               3\n",
       "6       JYO016            1925\n",
       "7       KSO640            1103\n",
       "8       LJW805            2902\n",
       "9       LPR060            1599\n",
       "10      OJF682            3471\n",
       "11      OLD726            1174\n",
       "12      SBV309            1226\n",
       "13      SET270            1946\n",
       "14      SJT151            1199"
      ]
     },
     "execution_count": 165,
     "metadata": {},
     "output_type": "execute_result"
    }
   ],
   "source": [
    "### numero de registros por camión\n",
    "regis=gps.groupby(\"Vehículo FO\")[['Vehículo FO']].agg('count')\n",
    "regis.columns= [\"CANT.REGISTROS\"]\n",
    "regis.reset_index(inplace=True)\n",
    "regis.head(15)"
   ]
  },
  {
   "attachments": {},
   "cell_type": "markdown",
   "metadata": {},
   "source": [
    "#### latitud y Longitus"
   ]
  },
  {
   "cell_type": "code",
   "execution_count": 166,
   "metadata": {},
   "outputs": [],
   "source": [
    "### latitud longitud\n",
    "t=0\n",
    "#lat_lon= pd.DataFrame()\n",
    "for var in ['LONGITUD_X', 'LATITUD_Y']:\n",
    "      tem_data=  gps.groupby(\"Vehículo FO\")[[var]].agg(['min', 'max'])\n",
    "      tem_data.columns= tem_data.columns.droplevel()\n",
    "      tem_data.reset_index(inplace=True)\n",
    "      col_min= var + '_min'\n",
    "      col_max= var + '_max'\n",
    "      tem_data.columns= ['Vehículo FO',col_min , col_max]\n",
    "      if t==0:\n",
    "            lat_lon=tem_data.copy()\n",
    "      else: \n",
    "            lat_lon= pd.merge(lat_lon, tem_data, on= 'Vehículo FO') \n",
    "      t= t+1\n",
    "lat_lon['Rango Longitud']= \"\"\n",
    "lat_lon['Rango Latitud']= \"\"\n",
    "for x in range(len(lat_lon)):\n",
    "      for var in ['LONGITUD_X', 'LATITUD_Y']:\n",
    "            col_min= var + '_min'\n",
    "            col_max= var + '_max'\n",
    "            a=lat_lon.loc[x, col_min]\n",
    "            b=lat_lon.loc[x, col_max]\n",
    "            if var== 'LONGITUD_X':\n",
    "                  lat_lon.loc[x, 'Rango Longitud']= \"(\"+ str(a) + \",\" + str(b) + \")\"\n",
    "            elif var== 'LATITUD_Y':\n",
    "                  lat_lon.loc[x, 'Rango Latitud']= \"(\"+ str(a) + \",\" + str(b) + \")\"\n"
   ]
  },
  {
   "cell_type": "code",
   "execution_count": 168,
   "metadata": {},
   "outputs": [],
   "source": [
    "revision_data= pd.merge(lat_lon[[\"Vehículo FO\", \"Rango Longitud\", \"Rango Latitud\" ]], regis, on= \"Vehículo FO\" )"
   ]
  },
  {
   "cell_type": "code",
   "execution_count": 169,
   "metadata": {},
   "outputs": [],
   "source": [
    "### Fecha\n",
    "today = date.today()\n",
    "revision_data[\"Fecha Revisión\"]= today\n",
    "### id\n",
    "a= len(revision_data)+ 1\n",
    "revision_data[\"ID Archivo-Placa\"]= range(1, a)\n",
    "### nombre archivo-pestaña\n",
    "revision_data[\"Nombre Archivo-Pestaña\"]= \"Información GPS Noel 2022 (Botero Soto).xlsx\" + \"HOJA 1\"\n",
    "# PLACA\n",
    "revision_data = revision_data.rename(columns={'Vehículo FO': 'PLACA'})\n",
    "#### ESPECIFICAR EL PROBLEMA\n",
    "#revision_data[\"ESPECIFICAR PROBLEMA\"]= \"\" \n",
    "#revision_data.loc[revision_data['¿CUMPLE FORMATO?']== 0, 'ESPECIFICAR PROBLEMA'] = \"Latitud que pasan de -90, 90 - Longitudes que pasan -180, 180\"\n"
   ]
  },
  {
   "cell_type": "code",
   "execution_count": 198,
   "metadata": {},
   "outputs": [],
   "source": [
    "#### Agregados\n",
    "agregado= pd.DataFrame( columns= [ 'TOTAL ARCHIVOS/BD',  'ARCHIVOS/BD CORRECTOS', 'TOTAL VEHÍCULOS' , 'TOTAL VEHÍCULOS CORRECTOS',\t 'TOTAL REGISTROS',\t'TOTAL REGISTROS CORRECTOS', 'PORCENTAGE REGISTROS CORRECTOS' ])\n",
    "\n",
    "### total archivos\n",
    "agregado.loc[1, 'TOTAL ARCHIVOS/BD' ]= 1\n",
    "\n",
    "# total vehículos\n",
    "a= len(revision_data)\n",
    "agregado.loc[1, 'TOTAL VEHÍCULOS' ]= a\n",
    "\n",
    "# archivos correctos\n",
    "agregado.loc[1, 'ARCHIVOS/BD CORRECTOS' ]= 1\n",
    "\n",
    "# Total vehículos correctos\n",
    "agregado.loc[1, 'TOTAL VEHÍCULOS CORRECTOS' ]= a\n",
    "\n",
    "## total registros\n",
    "a= revision_data['CANT.REGISTROS'].sum()\n",
    "agregado.loc[1, 'TOTAL REGISTROS' ]= a\n",
    "\n",
    "### total registrs válidos\n",
    "\n",
    "a= revision_data['obs_validas total'].sum()\n",
    "agregado.loc[1, 'TOTAL REGISTROS CORRECTOS' ]= a\n",
    "\n",
    "agregado.loc[1, 'PORCENTAGE REGISTROS CORRECTOS' ]= agregado.loc[1, 'TOTAL REGISTROS CORRECTOS' ]/agregado.loc[1, 'TOTAL REGISTROS' ]\n"
   ]
  },
  {
   "cell_type": "code",
   "execution_count": 199,
   "metadata": {},
   "outputs": [
    {
     "data": {
      "text/html": [
       "<div>\n",
       "<style scoped>\n",
       "    .dataframe tbody tr th:only-of-type {\n",
       "        vertical-align: middle;\n",
       "    }\n",
       "\n",
       "    .dataframe tbody tr th {\n",
       "        vertical-align: top;\n",
       "    }\n",
       "\n",
       "    .dataframe thead th {\n",
       "        text-align: right;\n",
       "    }\n",
       "</style>\n",
       "<table border=\"1\" class=\"dataframe\">\n",
       "  <thead>\n",
       "    <tr style=\"text-align: right;\">\n",
       "      <th></th>\n",
       "      <th>TOTAL ARCHIVOS/BD</th>\n",
       "      <th>ARCHIVOS/BD CORRECTOS</th>\n",
       "      <th>TOTAL VEHÍCULOS</th>\n",
       "      <th>TOTAL VEHÍCULOS CORRECTOS</th>\n",
       "      <th>TOTAL REGISTROS</th>\n",
       "      <th>TOTAL REGISTROS CORRECTOS</th>\n",
       "      <th>PORCENTAGE REGISTROS CORRECTOS</th>\n",
       "    </tr>\n",
       "  </thead>\n",
       "  <tbody>\n",
       "    <tr>\n",
       "      <th>1</th>\n",
       "      <td>1</td>\n",
       "      <td>1</td>\n",
       "      <td>91</td>\n",
       "      <td>91</td>\n",
       "      <td>194586</td>\n",
       "      <td>194469</td>\n",
       "      <td>0.999399</td>\n",
       "    </tr>\n",
       "  </tbody>\n",
       "</table>\n",
       "</div>"
      ],
      "text/plain": [
       "  TOTAL ARCHIVOS/BD ARCHIVOS/BD CORRECTOS TOTAL VEHÍCULOS  \\\n",
       "1                 1                     1              91   \n",
       "\n",
       "  TOTAL VEHÍCULOS CORRECTOS TOTAL REGISTROS TOTAL REGISTROS CORRECTOS  \\\n",
       "1                        91          194586                    194469   \n",
       "\n",
       "  PORCENTAGE REGISTROS CORRECTOS  \n",
       "1                       0.999399  "
      ]
     },
     "execution_count": 199,
     "metadata": {},
     "output_type": "execute_result"
    }
   ],
   "source": [
    "agregado"
   ]
  },
  {
   "cell_type": "code",
   "execution_count": 200,
   "metadata": {},
   "outputs": [
    {
     "data": {
      "text/plain": [
       "'C:\\\\Users\\\\a.rengifoj\\\\Universidad de los Andes\\\\UK PACT- Giro Zero - GiroZero GPS - GiroZero GPS\\\\BOTERO SOTO (NOEL)(NUTRESA)\\\\2. DATOS REVISADOS\\\\1. INFORMACIÓN PLACAS\\\\BOTERO SOTO (NOEL)(NUTRESA) TRAZABILIDAD_code.xlsx'"
      ]
     },
     "execution_count": 200,
     "metadata": {},
     "output_type": "execute_result"
    }
   ],
   "source": [
    "\n",
    "out_folders_1= [f for f in os.listdir(empresa_dir) if \"REVISADOS\" in f] \n",
    "temp_path= os.path.join(empresa_dir, out_folders_1[0])\n",
    "out_folders_2=  [f for f in os.listdir(temp_path) if \"PLACAS\" in f]  \n",
    "temp_path= os.path.join(temp_path,out_folders_2[0] )\n",
    "file_name= empresas_folders[0] + \" TRAZABILIDAD_code.xlsx\"\n",
    "out_file=  os.path.join(temp_path, file_name) \n",
    "\n",
    "writer = pd.ExcelWriter(out_file, engine=\"xlsxwriter\")\n",
    "revision_data.to_excel(writer, index=False, sheet_name= \"desagregado\")\n",
    "agregado.to_excel(writer, index=False, sheet_name= \"agregado\")\n",
    "\n",
    "writer.close()\n",
    "out_file"
   ]
  }
 ],
 "metadata": {
  "kernelspec": {
   "display_name": "base",
   "language": "python",
   "name": "python3"
  },
  "language_info": {
   "codemirror_mode": {
    "name": "ipython",
    "version": 3
   },
   "file_extension": ".py",
   "mimetype": "text/x-python",
   "name": "python",
   "nbconvert_exporter": "python",
   "pygments_lexer": "ipython3",
   "version": "3.9.13"
  },
  "orig_nbformat": 4
 },
 "nbformat": 4,
 "nbformat_minor": 2
}
